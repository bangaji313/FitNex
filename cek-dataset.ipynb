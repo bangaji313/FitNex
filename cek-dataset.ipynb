{
 "cells": [
  {
   "cell_type": "code",
   "execution_count": 1,
   "metadata": {},
   "outputs": [],
   "source": [
    "# Import Library\n",
    "import pandas as pd  # Untuk manipulasi dan analisis data"
   ]
  },
  {
   "cell_type": "code",
   "execution_count": 4,
   "metadata": {},
   "outputs": [
    {
     "name": "stdout",
     "output_type": "stream",
     "text": [
      "Dataset Hasil Clustering:\n",
      "    Age  Weight (kg)  Height (m)  Max_BPM  Avg_BPM  Resting_BPM  \\\n",
      "0  56.0         88.3        1.71    180.0    157.0         60.0   \n",
      "1  46.0         74.9        1.53    179.0    151.0         66.0   \n",
      "2  32.0         68.1        1.66    167.0    122.0         54.0   \n",
      "3  25.0         53.2        1.70    190.0    164.0         56.0   \n",
      "4  38.0         46.1        1.79    188.0    158.0         68.0   \n",
      "\n",
      "   Session_Duration (hours)  Calories_Burned  Fat_Percentage  \\\n",
      "0                      1.69           1313.0            12.6   \n",
      "1                      1.30            883.0            33.9   \n",
      "2                      1.11            677.0            33.4   \n",
      "3                      0.59            532.0            28.8   \n",
      "4                      0.64            556.0            29.2   \n",
      "\n",
      "   Water_Intake (liters)  ...  Experience_Level    BMI  Gender_Male  \\\n",
      "0                    3.5  ...               3.0  30.20         True   \n",
      "1                    2.1  ...               2.0  32.00        False   \n",
      "2                    2.3  ...               2.0  24.71        False   \n",
      "3                    2.1  ...               1.0  18.41         True   \n",
      "4                    2.8  ...               1.0  14.39         True   \n",
      "\n",
      "   Workout_Type_HIIT  Workout_Type_Strength  Workout_Type_Yoga  Cluster  \\\n",
      "0              False                  False               True        2   \n",
      "1               True                  False              False        1   \n",
      "2              False                  False              False        1   \n",
      "3              False                   True              False        1   \n",
      "4              False                   True              False        1   \n",
      "\n",
      "   Cluster_Selected      PCA1      PCA2  \n",
      "0                 2  3.596741  0.675329  \n",
      "1                 1 -0.418191 -0.962541  \n",
      "2                 1 -0.877226 -0.684924  \n",
      "3                 1 -2.623766 -0.545408  \n",
      "4                 1 -2.265079 -0.283675  \n",
      "\n",
      "[5 rows x 21 columns]\n",
      "\n",
      "Kolom dalam Dataset Hasil Clustering:\n",
      "Index(['Age', 'Weight (kg)', 'Height (m)', 'Max_BPM', 'Avg_BPM', 'Resting_BPM',\n",
      "       'Session_Duration (hours)', 'Calories_Burned', 'Fat_Percentage',\n",
      "       'Water_Intake (liters)', 'Workout_Frequency (days/week)',\n",
      "       'Experience_Level', 'BMI', 'Gender_Male', 'Workout_Type_HIIT',\n",
      "       'Workout_Type_Strength', 'Workout_Type_Yoga', 'Cluster',\n",
      "       'Cluster_Selected', 'PCA1', 'PCA2'],\n",
      "      dtype='object')\n"
     ]
    }
   ],
   "source": [
    "# Muat Dataset Hasil Clustering\n",
    "clustering_data_path = 'Clustering/hasil_clustering.csv'  # Path ke dataset hasil clustering\n",
    "clustering_data = pd.read_csv(clustering_data_path)\n",
    "\n",
    "# Menampilkan beberapa baris pertama dari dataset hasil clustering\n",
    "print(\"Dataset Hasil Clustering:\")\n",
    "print(clustering_data.head())\n",
    "print(\"\\nKolom dalam Dataset Hasil Clustering:\")\n",
    "print(clustering_data.columns)"
   ]
  },
  {
   "cell_type": "code",
   "execution_count": 5,
   "metadata": {},
   "outputs": [
    {
     "name": "stdout",
     "output_type": "stream",
     "text": [
      "\n",
      "Dataset Rekomendasi Diet:\n",
      "  Patient_ID  Age  Gender  Weight_kg  Height_cm   BMI  Disease_Type  Severity  \\\n",
      "0      P0001   56    Male       58.4        160  22.8       Obesity  Moderate   \n",
      "1      P0002   69    Male      101.2        169  35.4      Diabetes      Mild   \n",
      "2      P0003   46  Female       63.5        173  21.2  Hypertension      Mild   \n",
      "3      P0004   32    Male       58.1        164  21.6           NaN      Mild   \n",
      "4      P0005   60    Male       79.5        197  20.5      Diabetes  Moderate   \n",
      "\n",
      "  Physical_Activity_Level  Daily_Caloric_Intake  Cholesterol_mg/dL  \\\n",
      "0                Moderate                  3079              173.3   \n",
      "1                Moderate                  3032              199.2   \n",
      "2               Sedentary                  1737              181.0   \n",
      "3                Moderate                  2657              168.2   \n",
      "4               Sedentary                  3496              200.4   \n",
      "\n",
      "   Blood_Pressure_mmHg  Glucose_mg/dL Dietary_Restrictions Allergies  \\\n",
      "0                  133          116.3                  NaN   Peanuts   \n",
      "1                  120          137.1                  NaN   Peanuts   \n",
      "2                  121          109.6                  NaN   Peanuts   \n",
      "3                  144          159.4                  NaN       NaN   \n",
      "4                  172          182.3            Low_Sugar       NaN   \n",
      "\n",
      "  Preferred_Cuisine  Weekly_Exercise_Hours  Adherence_to_Diet_Plan  \\\n",
      "0           Mexican                    3.1                    96.6   \n",
      "1           Chinese                    4.5                    63.2   \n",
      "2           Chinese                    3.8                    57.5   \n",
      "3           Mexican                    4.3                    54.5   \n",
      "4           Italian                    9.8                    78.2   \n",
      "\n",
      "   Dietary_Nutrient_Imbalance_Score Diet_Recommendation  \n",
      "0                               3.1            Balanced  \n",
      "1                               0.6            Low_Carb  \n",
      "2                               4.6          Low_Sodium  \n",
      "3                               0.4            Balanced  \n",
      "4                               4.7            Low_Carb  \n",
      "\n",
      "Kolom dalam Dataset Rekomendasi Diet:\n",
      "Index(['Patient_ID', 'Age', 'Gender', 'Weight_kg', 'Height_cm', 'BMI',\n",
      "       'Disease_Type', 'Severity', 'Physical_Activity_Level',\n",
      "       'Daily_Caloric_Intake', 'Cholesterol_mg/dL', 'Blood_Pressure_mmHg',\n",
      "       'Glucose_mg/dL', 'Dietary_Restrictions', 'Allergies',\n",
      "       'Preferred_Cuisine', 'Weekly_Exercise_Hours', 'Adherence_to_Diet_Plan',\n",
      "       'Dietary_Nutrient_Imbalance_Score', 'Diet_Recommendation'],\n",
      "      dtype='object')\n"
     ]
    }
   ],
   "source": [
    "# Muat Dataset Rekomendasi Diet\n",
    "diet_data_path = 'diet_recommendations_dataset.csv'  # Path ke dataset rekomendasi diet\n",
    "diet_data = pd.read_csv(diet_data_path)\n",
    "\n",
    "# Menampilkan beberapa baris pertama dari dataset rekomendasi diet\n",
    "print(\"\\nDataset Rekomendasi Diet:\")\n",
    "print(diet_data.head())\n",
    "print(\"\\nKolom dalam Dataset Rekomendasi Diet:\")\n",
    "print(diet_data.columns)"
   ]
  },
  {
   "cell_type": "code",
   "execution_count": null,
   "metadata": {},
   "outputs": [],
   "source": []
  }
 ],
 "metadata": {
  "kernelspec": {
   "display_name": "Python 3",
   "language": "python",
   "name": "python3"
  },
  "language_info": {
   "codemirror_mode": {
    "name": "ipython",
    "version": 3
   },
   "file_extension": ".py",
   "mimetype": "text/x-python",
   "name": "python",
   "nbconvert_exporter": "python",
   "pygments_lexer": "ipython3",
   "version": "3.11.5"
  }
 },
 "nbformat": 4,
 "nbformat_minor": 2
}
