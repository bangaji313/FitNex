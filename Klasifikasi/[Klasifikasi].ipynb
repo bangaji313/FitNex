{
  "cells": [
    {
      "cell_type": "markdown",
      "metadata": {
        "id": "fKADPWcFKlj3"
      },
      "source": [
        "# **1. Import Library**"
      ]
    },
    {
      "cell_type": "markdown",
      "metadata": {
        "id": "LgA3ERnVn84N"
      },
      "source": [
        "\n",
        "Pada tahap ini, kami akan mengimpor library yang diperlukan untuk melakukan analisis klasifikasi menggunakan algoritma **Random Forest**. Berikut adalah library yang akan digunakan beserta fungsinya:\n",
        "\n",
        "1. **Pandas**: \n",
        "   - Digunakan untuk memanipulasi dan menganalisis data. Pandas menyediakan struktur data yang fleksibel dan efisien untuk bekerja dengan data tabel (DataFrame).\n",
        "\n",
        "2. **NumPy**: \n",
        "   - Digunakan untuk melakukan operasi numerik yang efisien. NumPy menyediakan dukungan untuk array multidimensi dan berbagai fungsi matematika yang diperlukan dalam analisis data.\n",
        "\n",
        "3. **Matplotlib**: \n",
        "   - Digunakan untuk visualisasi data. Matplotlib memungkinkan kita untuk membuat grafik dan plot untuk menganalisis data secara visual.\n",
        "\n",
        "4. **Seaborn**: \n",
        "   - Digunakan untuk visualisasi data yang lebih menarik dan informatif. Seaborn dibangun di atas Matplotlib dan menyediakan antarmuka yang lebih sederhana untuk membuat grafik statistik.\n",
        "\n",
        "5. **Scikit-learn**: \n",
        "   - Digunakan untuk implementasi algoritma machine learning. Scikit-learn menyediakan berbagai alat untuk preprocessing data, pemodelan, dan evaluasi model, termasuk algoritma klasifikasi seperti Random Forest dan fungsi untuk melakukan splitting data.\n",
        "\n",
        "Dengan mengimpor library ini, kami akan dapat memproses data, membangun model klasifikasi, dan memvisualisasikan hasil analisis.\n"
      ]
    },
    {
      "cell_type": "code",
      "execution_count": 8,
      "metadata": {
        "id": "BlmvjLY9M4Yj"
      },
      "outputs": [],
      "source": [
        "# Import Library\n",
        "import pandas as pd          # Untuk manipulasi dan analisis data\n",
        "import numpy as np           # Untuk operasi numerik\n",
        "import matplotlib.pyplot as plt  # Untuk visualisasi data\n",
        "import seaborn as sns        # Untuk visualisasi data yang lebih menarik\n",
        "from sklearn.ensemble import RandomForestClassifier  # Untuk algoritma klasifikasi Random Forest\n",
        "from sklearn.model_selection import train_test_split  # Untuk membagi dataset menjadi train dan test set\n",
        "from sklearn.preprocessing import StandardScaler  # Untuk normalisasi data\n"
      ]
    },
    {
      "cell_type": "markdown",
      "metadata": {
        "id": "f3YIEnAFKrKL"
      },
      "source": [
        "# **2. Muat Dataset dan Menggabungkan Informasi**"
      ]
    },
    {
      "cell_type": "markdown",
      "metadata": {
        "id": "Ey3ItwTen_7E"
      },
      "source": [
        "Pada tahap ini, kami akan memuat dua dataset yang diperlukan untuk analisis klasifikasi:\n",
        "\n",
        "1. **Hasil Clustering (`hasil_clustering.csv`)**:\n",
        "   - Dataset ini berisi hasil clustering yang telah dilakukan sebelumnya, termasuk label cluster yang menunjukkan kelompok pengguna berdasarkan karakteristik fisik mereka.\n",
        "\n",
        "2. **Diet Recommendations Dataset (`diet_recommendations_dataset.csv`)**:\n",
        "   - Dataset ini berisi informasi tentang rekomendasi diet berdasarkan profil kesehatan individu.\n",
        "\n",
        "Kami akan menggabungkan informasi yang relevan dari kedua dataset untuk membangun model klasifikasi yang memberikan rekomendasi latihan dan diet. Proses ini melibatkan pemuatan kedua dataset ke dalam DataFrame dan penggabungan berdasarkan kolom yang relevan, seperti ID pengguna atau atribut lainnya yang dapat mengaitkan data.\n",
        "\n",
        "Dengan langkah-langkah ini, kami akan memastikan bahwa data yang digunakan untuk klasifikasi mencakup informasi yang komprehensif dari kedua sumber.\n"
      ]
    },
    {
      "cell_type": "code",
      "execution_count": 9,
      "metadata": {
        "id": "GHCGNTyrM5fS"
      },
      "outputs": [
        {
          "name": "stdout",
          "output_type": "stream",
          "text": [
            "    Age  Height (m)  Max_BPM  Avg_BPM  Resting_BPM  Session_Duration (hours)  \\\n",
            "0  56.0        1.73    185.0    126.0         50.0                      1.09   \n",
            "1  42.0        1.75    163.0    162.0         51.0                      1.29   \n",
            "2  40.0        1.62    185.0    143.0         72.0                      1.30   \n",
            "3  19.0        1.68    193.0    145.0         64.0                      1.21   \n",
            "4  33.0        1.61    161.0    147.0         54.0                      1.77   \n",
            "\n",
            "   Calories_Burned  Fat_Percentage  Water_Intake (liters)  \\\n",
            "0            680.0            26.6                    2.8   \n",
            "1            940.0            29.0                    1.9   \n",
            "2           1022.0            20.8                    3.4   \n",
            "3            877.0            30.6                    2.1   \n",
            "4           1301.0            18.9                    2.7   \n",
            "\n",
            "   Workout_Frequency (days/week)  ...  Cholesterol_mg/dL  Blood_Pressure_mmHg  \\\n",
            "0                            3.0  ...              194.8                  175   \n",
            "1                            3.0  ...              227.8                  137   \n",
            "2                            2.0  ...              211.3                  171   \n",
            "3                            3.0  ...              173.3                  141   \n",
            "4                            4.0  ...              171.0                  148   \n",
            "\n",
            "   Glucose_mg/dL  Dietary_Restrictions  Allergies  Preferred_Cuisine  \\\n",
            "0          180.2            Low_Sodium        NaN             Indian   \n",
            "1          186.8            Low_Sodium    Peanuts            Mexican   \n",
            "2          126.2                   NaN     Gluten            Italian   \n",
            "3          152.0            Low_Sodium     Gluten            Italian   \n",
            "4          118.4             Low_Sugar    Peanuts            Chinese   \n",
            "\n",
            "   Weekly_Exercise_Hours  Adherence_to_Diet_Plan  \\\n",
            "0                    9.7                    81.4   \n",
            "1                    5.3                    66.2   \n",
            "2                    6.0                    51.1   \n",
            "3                    3.7                    94.2   \n",
            "4                    9.3                    63.6   \n",
            "\n",
            "   Dietary_Nutrient_Imbalance_Score  Diet_Recommendation  \n",
            "0                               5.0             Low_Carb  \n",
            "1                               3.4             Low_Carb  \n",
            "2                               1.8           Low_Sodium  \n",
            "3                               2.7             Balanced  \n",
            "4                               1.1             Balanced  \n",
            "\n",
            "[5 rows x 38 columns]\n"
          ]
        }
      ],
      "source": [
        "# Muat Dataset Hasil Clustering\n",
        "clustering_data_path = '../Clustering/hasil_clustering.csv'  # Path ke dataset hasil clustering\n",
        "clustering_data = pd.read_csv(clustering_data_path)\n",
        "\n",
        "# Muat Dataset Rekomendasi Diet\n",
        "diet_data_path = '../diet_recommendations_dataset.csv'  # Path ke dataset rekomendasi diet\n",
        "diet_data = pd.read_csv(diet_data_path)\n",
        "\n",
        "# Menyesuaikan kolom untuk penggabungan\n",
        "# Mengubah nama kolom di dataset clustering untuk konsistensi\n",
        "clustering_data['Weight_kg'] = clustering_data['Weight (kg)']\n",
        "clustering_data['Gender'] = clustering_data['Gender_Male'].replace({True: 'Male', False: 'Female'})\n",
        "\n",
        "# Menghapus kolom yang tidak diperlukan dari clustering_data\n",
        "clustering_data = clustering_data.drop(columns=['Weight (kg)', 'Gender_Male'])\n",
        "\n",
        "# Menggabungkan informasi dari kedua dataset\n",
        "# Menggunakan kolom yang relevan untuk penggabungan\n",
        "merged_data = pd.merge(clustering_data, diet_data, left_on=['Age', 'Weight_kg', 'Gender'], \n",
        "                        right_on=['Age', 'Weight_kg', 'Gender'], how='inner')\n",
        "\n",
        "# Menampilkan beberapa baris dari dataset yang digabungkan\n",
        "print(merged_data.head())\n"
      ]
    },
    {
      "cell_type": "markdown",
      "metadata": {},
      "source": [
        "# Penjelasan Output Penggabungan Dataset\n",
        "\n",
        "Setelah melakukan tahap **Muat Dataset dan Menggabungkan Informasi**, kami mendapatkan hasil sebagai berikut:\n",
        "\n",
        "## 1. Struktur Data Setelah Penggabungan\n",
        "Dataset yang digabungkan kini memiliki **38 kolom** dengan beberapa contoh data sebagai berikut:\n",
        "\n",
        "|   Age   | Height (m) | Max_BPM | Avg_BPM | Resting_BPM | Session_Duration (hours) | Calories_Burned | Fat_Percentage | Water_Intake (liters) | Workout_Frequency (days/week) | Cholesterol_mg/dL | Blood_Pressure_mmHg | Glucose_mg/dL | Dietary_Restrictions | Allergies | Preferred_Cuisine |\n",
        "|---------|------------|---------|---------|-------------|---------------------------|------------------|-----------------|------------------------|--------------------------------|--------------------|----------------------|----------------|---------------------|-----------|-------------------|\n",
        "| 56.0    | 1.73      | 185.0   | 126.0   | 50.0        | 1.09                      | 680.0            | 26.6           | 2.8                    | 3.0                            | 194.8              | 175                  | 180.2          | Low_Sodium          | NaN       | Indian            |\n",
        "| 42.0    | 1.75      | 163.0   | 162.0   | 51.0        | 1.29                      | 940.0            | 29.0           | 1.9                    | 3.0                            | 227.8              | 137                  | 186.8          | Low_Sodium         | Peanuts   | Mexican           |\n",
        "| 40.0    | 1.62      | 185.0   | 143.0   | 72.0        | 1.30                      | 1022.0           | 20.8           | 3.4                    | 2.0                            | 211.3              | 171                  | 126.2          | NaN                | Gluten    | Italian           |\n",
        "| 19.0    | 1.68      | 193.0   | 145.0   | 64.0        | 1.21                      | 877.0            | 30.6           | 2.1                    | 3.0                            | 173.3              | 141                  | 180.2          | Low_Sodium         | NaN       | Balanced          |\n",
        "| 33.0    | 1.61      | 161.0   | 147.0   | 54.0        | 1.77                      | 1301.0           | 18.9           | 2.7                    | 4.0                            | 171.0              | 148                  | 186.8          | Balanced           | NaN       | Balanced          |\n",
        "\n",
        "## 2. Informasi Kolom\n",
        "- Kolom-kolom yang tersedia mencakup informasi tentang usia, tinggi badan, detak jantung, durasi sesi latihan, kalori yang terbakar, persentase lemak, asupan air, serta informasi diet seperti jenis penyakit, tingkat aktivitas fisik, dan preferensi makanan.\n",
        "- Kolom **Cluster** menunjukkan label cluster yang dihasilkan dari model K-Means, yang mengelompokkan anggota gym berdasarkan karakteristik fisik mereka.\n",
        "\n",
        "### 3. Interpretasi\n",
        "- Dataset yang digabungkan memberikan informasi yang komprehensif untuk analisis lebih lanjut. Dengan menggabungkan hasil clustering dan rekomendasi diet, kami dapat membangun model klasifikasi yang lebih efektif untuk memberikan rekomendasi latihan dan diet.\n",
        "  \n",
        "Hasil ini menunjukkan bahwa proses penggabungan telah berhasil dilakukan, dan data kini siap untuk analisis dan pemodelan lebih lanjut.\n"
      ]
    },
    {
      "cell_type": "markdown",
      "metadata": {
        "id": "KkPem5eWL2UP"
      },
      "source": [
        "# **3. Data Splitting**"
      ]
    },
    {
      "cell_type": "markdown",
      "metadata": {
        "id": "YYj1rl_JNI9Y"
      },
      "source": [
        "# Tahap 3: Data Splitting\n",
        "\n",
        "Pada tahap ini, kami akan melakukan **Data Splitting** untuk memisahkan dataset menjadi dua bagian: data latih (training set) dan data uji (test set). Proses ini penting untuk memastikan bahwa model klasifikasi yang dibangun dapat dievaluasi secara akurat dan tidak mengalami overfitting.\n",
        "\n",
        "Berikut adalah langkah-langkah yang akan dilakukan:\n",
        "\n",
        "1. **Pemisahan Data**: \n",
        "   - Kami akan memisahkan fitur yang akan digunakan untuk klasifikasi dan label target. Fitur dapat mencakup atribut seperti usia, berat badan, tinggi badan, dan label cluster, sementara label target dapat berupa rekomendasi latihan atau diet yang ingin diprediksi.\n",
        "\n",
        "2. **Proporsi Pembagian**: \n",
        "   - Kami akan menggunakan proporsi tertentu untuk membagi data, misalnya 80% untuk data latih dan 20% untuk data uji. Ini akan memastikan bahwa model memiliki cukup data untuk belajar dan juga cukup data untuk evaluasi.\n",
        "\n",
        "Dengan langkah-langkah ini, kami akan memastikan bahwa data siap untuk digunakan dalam membangun model klasifikasi yang efektif.\n"
      ]
    },
    {
      "cell_type": "code",
      "execution_count": 10,
      "metadata": {
        "id": "OubAW-7ONKVj"
      },
      "outputs": [
        {
          "name": "stdout",
          "output_type": "stream",
          "text": [
            "Ukuran Data Latih: (9, 41)\n",
            "Ukuran Data Uji: (3, 41)\n"
          ]
        }
      ],
      "source": [
        "# Memisahkan fitur dan target\n",
        "# Menggunakan kolom yang relevan untuk klasifikasi\n",
        "X = merged_data.drop(columns=['Cluster', 'Cluster_Selected', 'Patient_ID'])  # Fitur\n",
        "y = merged_data['Cluster']  # Label target\n",
        "\n",
        "# Melakukan one-hot encoding pada fitur kategorikal\n",
        "X_encoded = pd.get_dummies(X, drop_first=True)\n",
        "\n",
        "# Melakukan data splitting\n",
        "X_train, X_test, y_train, y_test = train_test_split(X_encoded, y, test_size=0.2, random_state=42)\n",
        "\n",
        "# Menampilkan ukuran data latih dan data uji\n",
        "print(\"Ukuran Data Latih:\", X_train.shape)\n",
        "print(\"Ukuran Data Uji:\", X_test.shape)\n"
      ]
    },
    {
      "cell_type": "markdown",
      "metadata": {},
      "source": [
        "# Penjelasan Output Data Splitting\n",
        "\n",
        "Setelah melakukan tahap **Data Splitting**, kami mendapatkan hasil sebagai berikut:\n",
        "\n",
        "## 1. Ukuran Data Latih dan Data Uji\n",
        "- **Ukuran Data Latih**: Terdapat **9 baris** dan **41 kolom** dalam set data latih. Data ini akan digunakan untuk melatih model klasifikasi.\n",
        "- **Ukuran Data Uji**: Terdapat **3 baris** dan **41 kolom** dalam set data uji. Data ini akan digunakan untuk mengevaluasi kinerja model setelah dilatih.\n",
        "\n",
        "### 2. Interpretasi\n",
        "- **Proporsi Pembagian**: Pembagian data ini menunjukkan bahwa 80% dari total data digunakan untuk melatih model, sementara 20% digunakan untuk pengujian. Dengan ukuran ini, model akan memiliki cukup data untuk belajar, tetapi ukuran data latih yang kecil dapat mempengaruhi kemampuan model untuk generalisasi.\n",
        "- **Kesiapan untuk Klasifikasi**: Dengan data yang telah dipisahkan, kami siap untuk melanjutkan ke tahap berikutnya dalam membangun model klasifikasi yang memberikan rekomendasi latihan dan diet.\n",
        "\n",
        "Hasil ini menunjukkan bahwa proses pemisahan data telah berhasil dilakukan, dan data kini siap untuk langkah-langkah analisis dan pemodelan lebih lanjut.\n"
      ]
    },
    {
      "cell_type": "markdown",
      "metadata": {
        "id": "IVPbB03CMhTT"
      },
      "source": [
        "# **5. Membangun Model Klasifikasi**\n"
      ]
    },
    {
      "cell_type": "markdown",
      "metadata": {
        "id": "Ned1pL9zMmBK"
      },
      "source": [
        "## **a. Membangun Model Klasifikasi**"
      ]
    },
    {
      "cell_type": "markdown",
      "metadata": {
        "id": "WAWzPOE4Nkti"
      },
      "source": [
        "Pada tahap ini, kami akan membangun model klasifikasi menggunakan algoritma **Random Forest**. Model ini akan digunakan untuk memberikan rekomendasi latihan berdasarkan fitur-fitur yang telah dipilih dan data latih yang telah disiapkan.\n",
        "\n",
        "Berikut adalah langkah-langkah yang akan dilakukan:\n",
        "\n",
        "1. **Inisialisasi Model Random Forest**: \n",
        "   - Kami akan menginisialisasi model Random Forest dengan parameter yang sesuai. Parameter ini dapat disesuaikan lebih lanjut untuk meningkatkan kinerja model.\n",
        "\n",
        "2. **Latih Model dengan Data Latih**: \n",
        "   - Model akan dilatih menggunakan data latih yang telah dipisahkan sebelumnya. Proses ini akan memungkinkan model untuk belajar dari data dan mengidentifikasi pola.\n",
        "\n",
        "Dengan langkah-langkah ini, kami akan dapat membangun model klasifikasi yang efektif dan siap untuk dievaluasi pada tahap selanjutnya.\n"
      ]
    },
    {
      "cell_type": "code",
      "execution_count": 17,
      "metadata": {
        "id": "4JYxBe87NLDk"
      },
      "outputs": [
        {
          "name": "stdout",
          "output_type": "stream",
          "text": [
            "Model dan fitur berhasil disimpan.\n"
          ]
        }
      ],
      "source": [
        "# Encoding\n",
        "X_train_encoded = pd.get_dummies(X_train, drop_first=True)\n",
        "X_train_encoded = X_train_encoded.loc[:, ~X_train_encoded.columns.duplicated()]\n",
        "\n",
        "# Train\n",
        "rf_model = RandomForestClassifier(n_estimators=100, random_state=42)\n",
        "rf_model.fit(X_train_encoded, y_train)\n",
        "\n",
        "# Simpan model & kolom fitur\n",
        "joblib.dump(rf_model, 'random_forest_model.pkl')\n",
        "joblib.dump(X_train_encoded.columns.tolist(), 'fitur_model.pkl')\n",
        "\n",
        "print(\"Model dan fitur berhasil disimpan.\")"
      ]
    },
    {
      "cell_type": "markdown",
      "metadata": {
        "id": "ergzChZFEL-O"
      },
      "source": [
        "## **b. Evaluasi Model Klasifikasi**"
      ]
    },
    {
      "cell_type": "markdown",
      "metadata": {
        "id": "zOm68u-7NpLT"
      },
      "source": [
        "Pada tahap ini, kami akan melakukan evaluasi terhadap model klasifikasi yang telah dibangun menggunakan algoritma **Random Forest**. Evaluasi ini penting untuk memahami seberapa baik model dalam memprediksi label cluster berdasarkan data uji.\n",
        "\n",
        "Berikut adalah langkah-langkah yang akan dilakukan:\n",
        "\n",
        "1. **Lakukan Prediksi Menggunakan Data Uji**:\n",
        "   - Kami akan menggunakan model yang telah dilatih untuk melakukan prediksi pada data uji yang telah dipisahkan sebelumnya.\n",
        "\n",
        "2. **Hitung Metrik Evaluasi**:\n",
        "   - Kami akan menghitung metrik evaluasi seperti **Accuracy** dan **F1-Score**. Metrik ini akan memberikan gambaran tentang kinerja model dalam mengklasifikasikan data.\n",
        "   - (Opsional) Kami juga dapat menghitung **Precision** dan **Recall** untuk mendapatkan pemahaman yang lebih mendalam tentang kinerja model.\n",
        "\n",
        "3. **Buat Confusion Matrix**:\n",
        "   - Kami akan membuat confusion matrix untuk melihat detail prediksi benar dan salah, yang akan membantu dalam memahami di mana model mungkin gagal.\n",
        "\n",
        "Dengan langkah-langkah ini, kami akan dapat mengevaluasi efektivitas model klasifikasi dan merencanakan langkah-langkah selanjutnya.\n"
      ]
    },
    {
      "cell_type": "code",
      "execution_count": 13,
      "metadata": {
        "id": "tMq4QAssNLip"
      },
      "outputs": [
        {
          "name": "stdout",
          "output_type": "stream",
          "text": [
            "Accuracy: 0.67\n",
            "F1 Score: 0.53\n"
          ]
        },
        {
          "data": {
            "image/png": "[encoded data removed]",
            "text/plain": [
              "<Figure size 1000x600 with 2 Axes>"
            ]
          },
          "metadata": {},
          "output_type": "display_data"
        },
        {
          "name": "stdout",
          "output_type": "stream",
          "text": [
            "              precision    recall  f1-score   support\n",
            "\n",
            "           0       0.00      0.00      0.00         1\n",
            "           1       0.67      1.00      0.80         2\n",
            "\n",
            "    accuracy                           0.67         3\n",
            "   macro avg       0.33      0.50      0.40         3\n",
            "weighted avg       0.44      0.67      0.53         3\n",
            "\n"
          ]
        },
        {
          "name": "stderr",
          "output_type": "stream",
          "text": [
            "g:\\Software-IF\\Python_3-11-5\\Lib\\site-packages\\sklearn\\metrics\\_classification.py:1531: UndefinedMetricWarning: Precision is ill-defined and being set to 0.0 in labels with no predicted samples. Use `zero_division` parameter to control this behavior.\n",
            "  _warn_prf(average, modifier, f\"{metric.capitalize()} is\", len(result))\n",
            "g:\\Software-IF\\Python_3-11-5\\Lib\\site-packages\\sklearn\\metrics\\_classification.py:1531: UndefinedMetricWarning: Precision is ill-defined and being set to 0.0 in labels with no predicted samples. Use `zero_division` parameter to control this behavior.\n",
            "  _warn_prf(average, modifier, f\"{metric.capitalize()} is\", len(result))\n",
            "g:\\Software-IF\\Python_3-11-5\\Lib\\site-packages\\sklearn\\metrics\\_classification.py:1531: UndefinedMetricWarning: Precision is ill-defined and being set to 0.0 in labels with no predicted samples. Use `zero_division` parameter to control this behavior.\n",
            "  _warn_prf(average, modifier, f\"{metric.capitalize()} is\", len(result))\n"
          ]
        }
      ],
      "source": [
        "from sklearn.metrics import accuracy_score, f1_score, confusion_matrix, classification_report\n",
        "\n",
        "# One-Hot Encoding pada data latih\n",
        "X_train_encoded = pd.get_dummies(X_train, drop_first=True)\n",
        "\n",
        "# One-Hot Encoding pada data uji\n",
        "X_test_encoded = pd.get_dummies(X_test, drop_first=True)\n",
        "\n",
        "# Menghapus kolom duplikat jika ada\n",
        "X_train_encoded = X_train_encoded.loc[:, ~X_train_encoded.columns.duplicated()]\n",
        "X_test_encoded = X_test_encoded.loc[:, ~X_test_encoded.columns.duplicated()]\n",
        "\n",
        "# Menyesuaikan kolom X_test_encoded agar sama dengan X_train_encoded\n",
        "X_test_encoded = X_test_encoded.reindex(columns=X_train_encoded.columns, fill_value=0)\n",
        "\n",
        "# Memastikan bahwa kolom pada data uji sesuai dengan yang digunakan untuk melatih model\n",
        "if X_test_encoded.shape[1] != X_train_encoded.shape[1]:\n",
        "    print(\"Jumlah kolom tidak sesuai. Periksa kolom yang ada.\")\n",
        "else:\n",
        "    # Lakukan prediksi menggunakan model\n",
        "    y_pred = rf_model.predict(X_test_encoded)  # Prediksi menggunakan model\n",
        "\n",
        "    # Hitung metrik evaluasi\n",
        "    accuracy = accuracy_score(y_test, y_pred)\n",
        "    f1 = f1_score(y_test, y_pred, average='weighted')  # Menggunakan average='weighted' untuk multi-class\n",
        "\n",
        "    print(f\"Accuracy: {accuracy:.2f}\")\n",
        "    print(f\"F1 Score: {f1:.2f}\")\n",
        "\n",
        "    # Buat confusion matrix\n",
        "    conf_matrix = confusion_matrix(y_test, y_pred)\n",
        "\n",
        "    # Visualisasi confusion matrix\n",
        "    plt.figure(figsize=(10, 6))\n",
        "    sns.heatmap(conf_matrix, annot=True, fmt='d', cmap='Blues', \n",
        "                 xticklabels=[f'Cluster {i}' for i in range(len(set(y_test)))],\n",
        "                 yticklabels=[f'Cluster {i}' for i in range(len(set(y_test)))])\n",
        "    plt.title('Confusion Matrix')\n",
        "    plt.xlabel('Predicted')\n",
        "    plt.ylabel('True')\n",
        "    plt.show()\n",
        "\n",
        "    # Menampilkan classification report\n",
        "    print(classification_report(y_test, y_pred))"
      ]
    },
    {
      "cell_type": "markdown",
      "metadata": {},
      "source": [
        "# Penjelasan Output Evaluasi Model Klasifikasi\n",
        "\n",
        "Setelah melakukan evaluasi terhadap model klasifikasi yang dibangun menggunakan algoritma **Random Forest**, kami mendapatkan hasil sebagai berikut:\n",
        "\n",
        "## 1. Metrik Evaluasi\n",
        "- **Accuracy**: Hasil menunjukkan bahwa akurasi model adalah **67%**. Ini berarti bahwa model berhasil memprediksi label dengan benar pada 67% dari data uji.\n",
        "- **F1 Score**: Nilai F1 Score adalah **0.53**, yang menunjukkan keseimbangan antara precision dan recall. Nilai ini menunjukkan bahwa model memiliki performa yang moderat, tetapi masih ada ruang untuk perbaikan.\n",
        "\n",
        "### 2. Classification Report\n",
        "Output dari classification report menunjukkan detail metrik evaluasi untuk setiap cluster:\n",
        "\n",
        "|           | Precision | Recall | F1-Score | Support |\n",
        "|-----------|-----------|--------|----------|---------|\n",
        "| Cluster 0 | 0.00      | 0.00   | 0.00     | 1       |\n",
        "| Cluster 1 | 0.67      | 1.00   | 0.80     | 2       |\n",
        "\n",
        "- **Precision**: Menunjukkan proporsi prediksi positif yang benar. Untuk Cluster 1, precision adalah 0.67, yang berarti 67% dari prediksi positif benar.\n",
        "- **Recall**: Menunjukkan proporsi aktual positif yang berhasil diprediksi. Untuk Cluster 1, recall adalah 1.00, yang berarti model berhasil memprediksi semua instance dari Cluster 1.\n",
        "- **F1-Score**: Menunjukkan keseimbangan antara precision dan recall. Nilai F1 untuk Cluster 1 adalah 0.80, menunjukkan kinerja yang baik untuk cluster ini.\n",
        "  \n",
        "### 3. Confusion Matrix\n",
        "\n",
        "- **Deskripsi**: Confusion matrix menunjukkan jumlah prediksi benar dan salah untuk setiap cluster. \n",
        "- **Interpretasi**: \n",
        "  - Model tidak berhasil memprediksi Cluster 0 sama sekali (0 prediksi benar), sedangkan semua prediksi untuk Cluster 1 adalah benar (2 prediksi benar).\n",
        "  \n",
        "### 4. Kesimpulan\n",
        "Hasil evaluasi menunjukkan bahwa model memiliki performa yang baik dalam memprediksi Cluster 1, tetapi tidak efektif dalam memprediksi Cluster 0. Ini menunjukkan bahwa mungkin ada ketidakseimbangan dalam data atau bahwa model perlu dituning lebih lanjut untuk meningkatkan akurasi dan F1 Score. Langkah selanjutnya dapat mencakup tuning model atau eksplorasi lebih lanjut terhadap data.\n"
      ]
    },
    {
      "cell_type": "code",
      "execution_count": null,
      "metadata": {},
      "outputs": [],
      "source": []
    }
  ],
  "metadata": {
    "colab": {
      "provenance": []
    },
    "kernelspec": {
      "display_name": "Python 3",
      "name": "python3"
    },
    "language_info": {
      "codemirror_mode": {
        "name": "ipython",
        "version": 3
      },
      "file_extension": ".py",
      "mimetype": "text/x-python",
      "name": "python",
      "nbconvert_exporter": "python",
      "pygments_lexer": "ipython3",
      "version": "3.11.5"
    }
  },
  "nbformat": 4,
  "nbformat_minor": 0
}
